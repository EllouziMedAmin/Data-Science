{
  "nbformat": 4,
  "nbformat_minor": 0,
  "metadata": {
    "colab": {
      "provenance": [],
      "gpuType": "T4"
    },
    "kernelspec": {
      "name": "python3",
      "display_name": "Python 3"
    },
    "language_info": {
      "name": "python"
    },
    "accelerator": "GPU"
  },
  "cells": [
    {
      "cell_type": "code",
      "execution_count": 2,
      "metadata": {
        "colab": {
          "base_uri": "https://localhost:8080/"
        },
        "id": "r6iad2OXremj",
        "outputId": "f9c45ebf-5c7a-445a-d5d2-c0ae3ed7348e"
      },
      "outputs": [
        {
          "output_type": "stream",
          "name": "stdout",
          "text": [
            "Archive:  Suicide_Detection.csv.zip\n",
            "  inflating: Suicide_Detection.csv   \n"
          ]
        }
      ],
      "source": [
        "!unzip Suicide_Detection.csv.zip\n",
        "!rm Suicide_Detection.csv.zip"
      ]
    },
    {
      "cell_type": "code",
      "source": [
        "!pip install neattext\n",
        "!pip install plotly"
      ],
      "metadata": {
        "colab": {
          "base_uri": "https://localhost:8080/"
        },
        "id": "q_SqlFIBtQn2",
        "outputId": "7e959222-3fb6-4afa-bffb-fb9b87e681ab"
      },
      "execution_count": 3,
      "outputs": [
        {
          "output_type": "stream",
          "name": "stdout",
          "text": [
            "Collecting neattext\n",
            "  Downloading neattext-0.1.3-py3-none-any.whl.metadata (12 kB)\n",
            "Downloading neattext-0.1.3-py3-none-any.whl (114 kB)\n",
            "\u001b[2K   \u001b[90m━━━━━━━━━━━━━━━━━━━━━━━━━━━━━━━━━━━━━━━━\u001b[0m \u001b[32m114.7/114.7 kB\u001b[0m \u001b[31m6.1 MB/s\u001b[0m eta \u001b[36m0:00:00\u001b[0m\n",
            "\u001b[?25hInstalling collected packages: neattext\n",
            "Successfully installed neattext-0.1.3\n",
            "Requirement already satisfied: plotly in /usr/local/lib/python3.10/dist-packages (5.24.1)\n",
            "Requirement already satisfied: tenacity>=6.2.0 in /usr/local/lib/python3.10/dist-packages (from plotly) (9.0.0)\n",
            "Requirement already satisfied: packaging in /usr/local/lib/python3.10/dist-packages (from plotly) (24.2)\n"
          ]
        }
      ]
    },
    {
      "cell_type": "code",
      "source": [
        "!pip install keras.preprocessing"
      ],
      "metadata": {
        "colab": {
          "base_uri": "https://localhost:8080/"
        },
        "id": "4EVgYDG4t7i2",
        "outputId": "09303b06-ff96-4cf3-8914-3f25ddc0a348"
      },
      "execution_count": 6,
      "outputs": [
        {
          "output_type": "stream",
          "name": "stdout",
          "text": [
            "Collecting keras.preprocessing\n",
            "  Downloading Keras_Preprocessing-1.1.2-py2.py3-none-any.whl.metadata (1.9 kB)\n",
            "Requirement already satisfied: numpy>=1.9.1 in /usr/local/lib/python3.10/dist-packages (from keras.preprocessing) (1.26.4)\n",
            "Requirement already satisfied: six>=1.9.0 in /usr/local/lib/python3.10/dist-packages (from keras.preprocessing) (1.16.0)\n",
            "Downloading Keras_Preprocessing-1.1.2-py2.py3-none-any.whl (42 kB)\n",
            "\u001b[?25l   \u001b[90m━━━━━━━━━━━━━━━━━━━━━━━━━━━━━━━━━━━━━━━━\u001b[0m \u001b[32m0.0/42.6 kB\u001b[0m \u001b[31m?\u001b[0m eta \u001b[36m-:--:--\u001b[0m\r\u001b[2K   \u001b[90m━━━━━━━━━━━━━━━━━━━━━━━━━━━━━━━━━━━━━━━━\u001b[0m \u001b[32m42.6/42.6 kB\u001b[0m \u001b[31m4.0 MB/s\u001b[0m eta \u001b[36m0:00:00\u001b[0m\n",
            "\u001b[?25hInstalling collected packages: keras.preprocessing\n",
            "Successfully installed keras.preprocessing-1.1.2\n"
          ]
        }
      ]
    },
    {
      "cell_type": "code",
      "source": [
        "import numpy as np\n",
        "import pandas as pd\n",
        "from sklearn.model_selection import train_test_split\n",
        "import neattext.functions as nfx\n",
        "import plotly.express as plx\n",
        "from sklearn.metrics import classification_report\n",
        "import keras\n",
        "from keras.layers import Embedding,Dense,LSTM,GlobalMaxPooling1D,Input\n",
        "from keras.callbacks import EarlyStopping,ReduceLROnPlateau\n",
        "from keras.models import Sequential\n",
        "import tensorflow as tf\n",
        "from sklearn.preprocessing import LabelEncoder\n",
        "from tensorflow.keras.preprocessing.text import Tokenizer\n",
        "from tensorflow.keras.preprocessing.sequence import pad_sequences\n",
        "from tqdm import tqdm"
      ],
      "metadata": {
        "id": "D8528rDdri55"
      },
      "execution_count": 10,
      "outputs": []
    },
    {
      "cell_type": "code",
      "source": [
        "data = pd.read_csv('Suicide_Detection.csv')"
      ],
      "metadata": {
        "id": "hH-kban4rqAg"
      },
      "execution_count": 11,
      "outputs": []
    },
    {
      "cell_type": "code",
      "source": [
        "data.shape"
      ],
      "metadata": {
        "colab": {
          "base_uri": "https://localhost:8080/"
        },
        "id": "7iLyLRndufOF",
        "outputId": "e17b9317-4782-48f6-8126-cdd609e04e5e"
      },
      "execution_count": 12,
      "outputs": [
        {
          "output_type": "execute_result",
          "data": {
            "text/plain": [
              "(232074, 3)"
            ]
          },
          "metadata": {},
          "execution_count": 12
        }
      ]
    },
    {
      "cell_type": "code",
      "source": [
        "data.info()"
      ],
      "metadata": {
        "colab": {
          "base_uri": "https://localhost:8080/"
        },
        "id": "YUsjQhrEuhT5",
        "outputId": "034b4e9c-eb55-4eb9-8a1d-67db4d74b726"
      },
      "execution_count": 13,
      "outputs": [
        {
          "output_type": "stream",
          "name": "stdout",
          "text": [
            "<class 'pandas.core.frame.DataFrame'>\n",
            "RangeIndex: 232074 entries, 0 to 232073\n",
            "Data columns (total 3 columns):\n",
            " #   Column      Non-Null Count   Dtype \n",
            "---  ------      --------------   ----- \n",
            " 0   Unnamed: 0  232074 non-null  int64 \n",
            " 1   text        232074 non-null  object\n",
            " 2   class       232074 non-null  object\n",
            "dtypes: int64(1), object(2)\n",
            "memory usage: 5.3+ MB\n"
          ]
        }
      ]
    },
    {
      "cell_type": "code",
      "source": [
        "data.head()"
      ],
      "metadata": {
        "colab": {
          "base_uri": "https://localhost:8080/",
          "height": 206
        },
        "id": "QtzSX1V2uijW",
        "outputId": "c89ef0d4-f774-4e77-e863-78d0bcdeae97"
      },
      "execution_count": 14,
      "outputs": [
        {
          "output_type": "execute_result",
          "data": {
            "text/plain": [
              "   Unnamed: 0                                               text        class\n",
              "0           2  Ex Wife Threatening SuicideRecently I left my ...      suicide\n",
              "1           3  Am I weird I don't get affected by compliments...  non-suicide\n",
              "2           4  Finally 2020 is almost over... So I can never ...  non-suicide\n",
              "3           8          i need helpjust help me im crying so hard      suicide\n",
              "4           9  I’m so lostHello, my name is Adam (16) and I’v...      suicide"
            ],
            "text/html": [
              "\n",
              "  <div id=\"df-39e59acf-4b0c-4a9b-a2b9-5f1d8e7ac9b8\" class=\"colab-df-container\">\n",
              "    <div>\n",
              "<style scoped>\n",
              "    .dataframe tbody tr th:only-of-type {\n",
              "        vertical-align: middle;\n",
              "    }\n",
              "\n",
              "    .dataframe tbody tr th {\n",
              "        vertical-align: top;\n",
              "    }\n",
              "\n",
              "    .dataframe thead th {\n",
              "        text-align: right;\n",
              "    }\n",
              "</style>\n",
              "<table border=\"1\" class=\"dataframe\">\n",
              "  <thead>\n",
              "    <tr style=\"text-align: right;\">\n",
              "      <th></th>\n",
              "      <th>Unnamed: 0</th>\n",
              "      <th>text</th>\n",
              "      <th>class</th>\n",
              "    </tr>\n",
              "  </thead>\n",
              "  <tbody>\n",
              "    <tr>\n",
              "      <th>0</th>\n",
              "      <td>2</td>\n",
              "      <td>Ex Wife Threatening SuicideRecently I left my ...</td>\n",
              "      <td>suicide</td>\n",
              "    </tr>\n",
              "    <tr>\n",
              "      <th>1</th>\n",
              "      <td>3</td>\n",
              "      <td>Am I weird I don't get affected by compliments...</td>\n",
              "      <td>non-suicide</td>\n",
              "    </tr>\n",
              "    <tr>\n",
              "      <th>2</th>\n",
              "      <td>4</td>\n",
              "      <td>Finally 2020 is almost over... So I can never ...</td>\n",
              "      <td>non-suicide</td>\n",
              "    </tr>\n",
              "    <tr>\n",
              "      <th>3</th>\n",
              "      <td>8</td>\n",
              "      <td>i need helpjust help me im crying so hard</td>\n",
              "      <td>suicide</td>\n",
              "    </tr>\n",
              "    <tr>\n",
              "      <th>4</th>\n",
              "      <td>9</td>\n",
              "      <td>I’m so lostHello, my name is Adam (16) and I’v...</td>\n",
              "      <td>suicide</td>\n",
              "    </tr>\n",
              "  </tbody>\n",
              "</table>\n",
              "</div>\n",
              "    <div class=\"colab-df-buttons\">\n",
              "\n",
              "  <div class=\"colab-df-container\">\n",
              "    <button class=\"colab-df-convert\" onclick=\"convertToInteractive('df-39e59acf-4b0c-4a9b-a2b9-5f1d8e7ac9b8')\"\n",
              "            title=\"Convert this dataframe to an interactive table.\"\n",
              "            style=\"display:none;\">\n",
              "\n",
              "  <svg xmlns=\"http://www.w3.org/2000/svg\" height=\"24px\" viewBox=\"0 -960 960 960\">\n",
              "    <path d=\"M120-120v-720h720v720H120Zm60-500h600v-160H180v160Zm220 220h160v-160H400v160Zm0 220h160v-160H400v160ZM180-400h160v-160H180v160Zm440 0h160v-160H620v160ZM180-180h160v-160H180v160Zm440 0h160v-160H620v160Z\"/>\n",
              "  </svg>\n",
              "    </button>\n",
              "\n",
              "  <style>\n",
              "    .colab-df-container {\n",
              "      display:flex;\n",
              "      gap: 12px;\n",
              "    }\n",
              "\n",
              "    .colab-df-convert {\n",
              "      background-color: #E8F0FE;\n",
              "      border: none;\n",
              "      border-radius: 50%;\n",
              "      cursor: pointer;\n",
              "      display: none;\n",
              "      fill: #1967D2;\n",
              "      height: 32px;\n",
              "      padding: 0 0 0 0;\n",
              "      width: 32px;\n",
              "    }\n",
              "\n",
              "    .colab-df-convert:hover {\n",
              "      background-color: #E2EBFA;\n",
              "      box-shadow: 0px 1px 2px rgba(60, 64, 67, 0.3), 0px 1px 3px 1px rgba(60, 64, 67, 0.15);\n",
              "      fill: #174EA6;\n",
              "    }\n",
              "\n",
              "    .colab-df-buttons div {\n",
              "      margin-bottom: 4px;\n",
              "    }\n",
              "\n",
              "    [theme=dark] .colab-df-convert {\n",
              "      background-color: #3B4455;\n",
              "      fill: #D2E3FC;\n",
              "    }\n",
              "\n",
              "    [theme=dark] .colab-df-convert:hover {\n",
              "      background-color: #434B5C;\n",
              "      box-shadow: 0px 1px 3px 1px rgba(0, 0, 0, 0.15);\n",
              "      filter: drop-shadow(0px 1px 2px rgba(0, 0, 0, 0.3));\n",
              "      fill: #FFFFFF;\n",
              "    }\n",
              "  </style>\n",
              "\n",
              "    <script>\n",
              "      const buttonEl =\n",
              "        document.querySelector('#df-39e59acf-4b0c-4a9b-a2b9-5f1d8e7ac9b8 button.colab-df-convert');\n",
              "      buttonEl.style.display =\n",
              "        google.colab.kernel.accessAllowed ? 'block' : 'none';\n",
              "\n",
              "      async function convertToInteractive(key) {\n",
              "        const element = document.querySelector('#df-39e59acf-4b0c-4a9b-a2b9-5f1d8e7ac9b8');\n",
              "        const dataTable =\n",
              "          await google.colab.kernel.invokeFunction('convertToInteractive',\n",
              "                                                    [key], {});\n",
              "        if (!dataTable) return;\n",
              "\n",
              "        const docLinkHtml = 'Like what you see? Visit the ' +\n",
              "          '<a target=\"_blank\" href=https://colab.research.google.com/notebooks/data_table.ipynb>data table notebook</a>'\n",
              "          + ' to learn more about interactive tables.';\n",
              "        element.innerHTML = '';\n",
              "        dataTable['output_type'] = 'display_data';\n",
              "        await google.colab.output.renderOutput(dataTable, element);\n",
              "        const docLink = document.createElement('div');\n",
              "        docLink.innerHTML = docLinkHtml;\n",
              "        element.appendChild(docLink);\n",
              "      }\n",
              "    </script>\n",
              "  </div>\n",
              "\n",
              "\n",
              "<div id=\"df-d78fc40b-f26b-4b69-8cdb-97988c44db20\">\n",
              "  <button class=\"colab-df-quickchart\" onclick=\"quickchart('df-d78fc40b-f26b-4b69-8cdb-97988c44db20')\"\n",
              "            title=\"Suggest charts\"\n",
              "            style=\"display:none;\">\n",
              "\n",
              "<svg xmlns=\"http://www.w3.org/2000/svg\" height=\"24px\"viewBox=\"0 0 24 24\"\n",
              "     width=\"24px\">\n",
              "    <g>\n",
              "        <path d=\"M19 3H5c-1.1 0-2 .9-2 2v14c0 1.1.9 2 2 2h14c1.1 0 2-.9 2-2V5c0-1.1-.9-2-2-2zM9 17H7v-7h2v7zm4 0h-2V7h2v10zm4 0h-2v-4h2v4z\"/>\n",
              "    </g>\n",
              "</svg>\n",
              "  </button>\n",
              "\n",
              "<style>\n",
              "  .colab-df-quickchart {\n",
              "      --bg-color: #E8F0FE;\n",
              "      --fill-color: #1967D2;\n",
              "      --hover-bg-color: #E2EBFA;\n",
              "      --hover-fill-color: #174EA6;\n",
              "      --disabled-fill-color: #AAA;\n",
              "      --disabled-bg-color: #DDD;\n",
              "  }\n",
              "\n",
              "  [theme=dark] .colab-df-quickchart {\n",
              "      --bg-color: #3B4455;\n",
              "      --fill-color: #D2E3FC;\n",
              "      --hover-bg-color: #434B5C;\n",
              "      --hover-fill-color: #FFFFFF;\n",
              "      --disabled-bg-color: #3B4455;\n",
              "      --disabled-fill-color: #666;\n",
              "  }\n",
              "\n",
              "  .colab-df-quickchart {\n",
              "    background-color: var(--bg-color);\n",
              "    border: none;\n",
              "    border-radius: 50%;\n",
              "    cursor: pointer;\n",
              "    display: none;\n",
              "    fill: var(--fill-color);\n",
              "    height: 32px;\n",
              "    padding: 0;\n",
              "    width: 32px;\n",
              "  }\n",
              "\n",
              "  .colab-df-quickchart:hover {\n",
              "    background-color: var(--hover-bg-color);\n",
              "    box-shadow: 0 1px 2px rgba(60, 64, 67, 0.3), 0 1px 3px 1px rgba(60, 64, 67, 0.15);\n",
              "    fill: var(--button-hover-fill-color);\n",
              "  }\n",
              "\n",
              "  .colab-df-quickchart-complete:disabled,\n",
              "  .colab-df-quickchart-complete:disabled:hover {\n",
              "    background-color: var(--disabled-bg-color);\n",
              "    fill: var(--disabled-fill-color);\n",
              "    box-shadow: none;\n",
              "  }\n",
              "\n",
              "  .colab-df-spinner {\n",
              "    border: 2px solid var(--fill-color);\n",
              "    border-color: transparent;\n",
              "    border-bottom-color: var(--fill-color);\n",
              "    animation:\n",
              "      spin 1s steps(1) infinite;\n",
              "  }\n",
              "\n",
              "  @keyframes spin {\n",
              "    0% {\n",
              "      border-color: transparent;\n",
              "      border-bottom-color: var(--fill-color);\n",
              "      border-left-color: var(--fill-color);\n",
              "    }\n",
              "    20% {\n",
              "      border-color: transparent;\n",
              "      border-left-color: var(--fill-color);\n",
              "      border-top-color: var(--fill-color);\n",
              "    }\n",
              "    30% {\n",
              "      border-color: transparent;\n",
              "      border-left-color: var(--fill-color);\n",
              "      border-top-color: var(--fill-color);\n",
              "      border-right-color: var(--fill-color);\n",
              "    }\n",
              "    40% {\n",
              "      border-color: transparent;\n",
              "      border-right-color: var(--fill-color);\n",
              "      border-top-color: var(--fill-color);\n",
              "    }\n",
              "    60% {\n",
              "      border-color: transparent;\n",
              "      border-right-color: var(--fill-color);\n",
              "    }\n",
              "    80% {\n",
              "      border-color: transparent;\n",
              "      border-right-color: var(--fill-color);\n",
              "      border-bottom-color: var(--fill-color);\n",
              "    }\n",
              "    90% {\n",
              "      border-color: transparent;\n",
              "      border-bottom-color: var(--fill-color);\n",
              "    }\n",
              "  }\n",
              "</style>\n",
              "\n",
              "  <script>\n",
              "    async function quickchart(key) {\n",
              "      const quickchartButtonEl =\n",
              "        document.querySelector('#' + key + ' button');\n",
              "      quickchartButtonEl.disabled = true;  // To prevent multiple clicks.\n",
              "      quickchartButtonEl.classList.add('colab-df-spinner');\n",
              "      try {\n",
              "        const charts = await google.colab.kernel.invokeFunction(\n",
              "            'suggestCharts', [key], {});\n",
              "      } catch (error) {\n",
              "        console.error('Error during call to suggestCharts:', error);\n",
              "      }\n",
              "      quickchartButtonEl.classList.remove('colab-df-spinner');\n",
              "      quickchartButtonEl.classList.add('colab-df-quickchart-complete');\n",
              "    }\n",
              "    (() => {\n",
              "      let quickchartButtonEl =\n",
              "        document.querySelector('#df-d78fc40b-f26b-4b69-8cdb-97988c44db20 button');\n",
              "      quickchartButtonEl.style.display =\n",
              "        google.colab.kernel.accessAllowed ? 'block' : 'none';\n",
              "    })();\n",
              "  </script>\n",
              "</div>\n",
              "\n",
              "    </div>\n",
              "  </div>\n"
            ],
            "application/vnd.google.colaboratory.intrinsic+json": {
              "type": "dataframe",
              "variable_name": "data"
            }
          },
          "metadata": {},
          "execution_count": 14
        }
      ]
    },
    {
      "cell_type": "code",
      "source": [
        "data['class'].value_counts()"
      ],
      "metadata": {
        "colab": {
          "base_uri": "https://localhost:8080/",
          "height": 178
        },
        "id": "YQNtDEhRuj4G",
        "outputId": "a63368e8-fb10-4c66-a283-4360ce0d3a24"
      },
      "execution_count": 16,
      "outputs": [
        {
          "output_type": "execute_result",
          "data": {
            "text/plain": [
              "class\n",
              "suicide        116037\n",
              "non-suicide    116037\n",
              "Name: count, dtype: int64"
            ],
            "text/html": [
              "<div>\n",
              "<style scoped>\n",
              "    .dataframe tbody tr th:only-of-type {\n",
              "        vertical-align: middle;\n",
              "    }\n",
              "\n",
              "    .dataframe tbody tr th {\n",
              "        vertical-align: top;\n",
              "    }\n",
              "\n",
              "    .dataframe thead th {\n",
              "        text-align: right;\n",
              "    }\n",
              "</style>\n",
              "<table border=\"1\" class=\"dataframe\">\n",
              "  <thead>\n",
              "    <tr style=\"text-align: right;\">\n",
              "      <th></th>\n",
              "      <th>count</th>\n",
              "    </tr>\n",
              "    <tr>\n",
              "      <th>class</th>\n",
              "      <th></th>\n",
              "    </tr>\n",
              "  </thead>\n",
              "  <tbody>\n",
              "    <tr>\n",
              "      <th>suicide</th>\n",
              "      <td>116037</td>\n",
              "    </tr>\n",
              "    <tr>\n",
              "      <th>non-suicide</th>\n",
              "      <td>116037</td>\n",
              "    </tr>\n",
              "  </tbody>\n",
              "</table>\n",
              "</div><br><label><b>dtype:</b> int64</label>"
            ]
          },
          "metadata": {},
          "execution_count": 16
        }
      ]
    },
    {
      "cell_type": "code",
      "source": [
        "train_data,test_data=train_test_split(data,test_size=0.2,random_state=10)"
      ],
      "metadata": {
        "id": "ONUeFRYvuqjc"
      },
      "execution_count": 17,
      "outputs": []
    },
    {
      "cell_type": "code",
      "source": [
        "train_data['class'].value_counts()"
      ],
      "metadata": {
        "colab": {
          "base_uri": "https://localhost:8080/",
          "height": 178
        },
        "id": "FyzDp9-lu3hZ",
        "outputId": "44fd7fff-5f4f-4154-a4dc-35d473cff4dd"
      },
      "execution_count": 19,
      "outputs": [
        {
          "output_type": "execute_result",
          "data": {
            "text/plain": [
              "class\n",
              "suicide        92831\n",
              "non-suicide    92828\n",
              "Name: count, dtype: int64"
            ],
            "text/html": [
              "<div>\n",
              "<style scoped>\n",
              "    .dataframe tbody tr th:only-of-type {\n",
              "        vertical-align: middle;\n",
              "    }\n",
              "\n",
              "    .dataframe tbody tr th {\n",
              "        vertical-align: top;\n",
              "    }\n",
              "\n",
              "    .dataframe thead th {\n",
              "        text-align: right;\n",
              "    }\n",
              "</style>\n",
              "<table border=\"1\" class=\"dataframe\">\n",
              "  <thead>\n",
              "    <tr style=\"text-align: right;\">\n",
              "      <th></th>\n",
              "      <th>count</th>\n",
              "    </tr>\n",
              "    <tr>\n",
              "      <th>class</th>\n",
              "      <th></th>\n",
              "    </tr>\n",
              "  </thead>\n",
              "  <tbody>\n",
              "    <tr>\n",
              "      <th>suicide</th>\n",
              "      <td>92831</td>\n",
              "    </tr>\n",
              "    <tr>\n",
              "      <th>non-suicide</th>\n",
              "      <td>92828</td>\n",
              "    </tr>\n",
              "  </tbody>\n",
              "</table>\n",
              "</div><br><label><b>dtype:</b> int64</label>"
            ]
          },
          "metadata": {},
          "execution_count": 19
        }
      ]
    },
    {
      "cell_type": "code",
      "source": [
        "import seaborn as sns\n",
        "import matplotlib.pyplot as plt\n",
        "\n",
        "plt.figure(figsize=(18,10))\n",
        "sns.countplot(data=train_data, x='class',palette='tab10')\n",
        "plt.yticks(train_data['class'].value_counts(),rotation=45)\n",
        "plt.show()\n"
      ],
      "metadata": {
        "colab": {
          "base_uri": "https://localhost:8080/",
          "height": 604
        },
        "id": "18_nF3eVu9tP",
        "outputId": "db5f2a7b-b659-475e-b668-e0e3962b831d"
      },
      "execution_count": 28,
      "outputs": [
        {
          "output_type": "stream",
          "name": "stderr",
          "text": [
            "<ipython-input-28-17b21e573d2e>:5: FutureWarning: \n",
            "\n",
            "Passing `palette` without assigning `hue` is deprecated and will be removed in v0.14.0. Assign the `x` variable to `hue` and set `legend=False` for the same effect.\n",
            "\n",
            "  sns.countplot(data=train_data, x='class',palette='tab10')\n"
          ]
        },
        {
          "output_type": "display_data",
          "data": {
            "text/plain": [
              "<Figure size 1800x1000 with 1 Axes>"
            ],
            "image/png": "[encoded data removed]"
          },
          "metadata": {}
        }
      ]
    },
    {
      "cell_type": "code",
      "source": [
        "def clean_text(text):\n",
        "    text_length=[]\n",
        "    cleaned_text=[]\n",
        "    for sent in tqdm(text):\n",
        "        sent=sent.lower()\n",
        "        sent=nfx.remove_special_characters(sent)\n",
        "        sent=nfx.remove_stopwords(sent)\n",
        "        text_length.append(len(sent.split()))\n",
        "        cleaned_text.append(sent)\n",
        "    return cleaned_text,text_length"
      ],
      "metadata": {
        "id": "pWUcgm4tvGh7"
      },
      "execution_count": 29,
      "outputs": []
    },
    {
      "cell_type": "code",
      "source": [
        "cleaned_train_text,train_text_length=clean_text(train_data.text)\n",
        "cleaned_test_text,test_text_length=clean_text(test_data.text)"
      ],
      "metadata": {
        "colab": {
          "base_uri": "https://localhost:8080/"
        },
        "id": "FnMF62Dxwb8E",
        "outputId": "7572fa9d-c43c-4c25-86ab-ad4a52438b5d"
      },
      "execution_count": 30,
      "outputs": [
        {
          "output_type": "stream",
          "name": "stderr",
          "text": [
            "100%|██████████| 185659/185659 [00:12<00:00, 14863.21it/s]\n",
            "100%|██████████| 46415/46415 [00:03<00:00, 13203.92it/s]\n"
          ]
        }
      ]
    },
    {
      "cell_type": "code",
      "source": [
        "tokenizer=Tokenizer()\n",
        "tokenizer.fit_on_texts(cleaned_train_text)"
      ],
      "metadata": {
        "id": "0NoFP4PPwgG9"
      },
      "execution_count": 31,
      "outputs": []
    },
    {
      "cell_type": "code",
      "source": [
        "cleaned_train_text[:10]"
      ],
      "metadata": {
        "colab": {
          "base_uri": "https://localhost:8080/"
        },
        "id": "Lo0s60Vmwnf1",
        "outputId": "540cea6b-f442-4868-fd34-5edecc88d985"
      },
      "execution_count": 33,
      "outputs": [
        {
          "output_type": "execute_result",
          "data": {
            "text/plain": [
              "['hey east cost ya guys doin whats snow like',\n",
              " 'ate edible ate edible looking fun stuff sitting suggestions',\n",
              " 'helplessness havelast week ive realised dont like cant stsy happy long dont feel like belong dont know want know people miss die thats stops dont know im meant knowing thatthe times recently ive felt close happy im drinking following day regardless happens feel worse suicidal feelings worse',\n",
              " 'want win election labeled discussion fight insult personally im hoping trump fact helps expect vote biden helped',\n",
              " 'toothpicksso thing cant lie doctors family basically push door doctors office came tumbling feel world better lives people im better leaves doctor contacting family saying im allowed things case needed supervision pretty predictable know knifes rope razor blades etc toothpicks mean im flattered think creative kill toothpick honestly feels excessive forcing bubble wrapped getting help making feel worse pressure puts family gonna push guilt able things away isnt fair',\n",
              " 'crisischanging meds getting pristiq ive year switched wellbutrin pristiq added lamictal given energy anxiety want sh deep dont care dont know stop dont want anymore scars especially work im mental health tech working group home teen boys way im going hrt needed vent',\n",
              " 'im gonna foreverim failure gonna 25 months likes man dont know know im tired blaming im tired outcast shit painful potential guess going drain pray god like everyday help hate life hate world want end',\n",
              " 'whats ideal romantic date money',\n",
              " 'acutaully happened awhile ago new kid class thought girl crush polite know friends',\n",
              " 'dont want hereive depressed life family longer talk ive deleted social media reddit live boyfriend fuck havent felt wanted felt loved like years makes feel like shit express frustrations invalidates feelings calls crazy says people usually im telling summer told kill occasion went vegas actually purposefully sliced leg open badly night vegas massacre happened bad wasnt concert right uncle died year january father feels like father figure look died cant point loaded gun including silencer dont wake loudly work id feel awfulso ive got ready problem im pussy dont want live dont want hurt dont want find im going burn forever hell dont think exists like happened exist ive lived lifetime pain cant break decided id bathroom bit easier clean know itll pretty run shower lot itno loves meno caresi family friends children petsand im burden knows mei dont want wish stop bitch pull trigger']"
            ]
          },
          "metadata": {},
          "execution_count": 33
        }
      ]
    },
    {
      "cell_type": "code",
      "source": [
        "train_text_seq=tokenizer.texts_to_sequences(cleaned_train_text)\n",
        "train_text_pad=pad_sequences(train_text_seq,maxlen=50)\n",
        "\n",
        "\n",
        "test_text_seq=tokenizer.texts_to_sequences(cleaned_test_text)\n",
        "test_text_pad=pad_sequences(test_text_seq,maxlen=50)"
      ],
      "metadata": {
        "id": "xe6-HsdJ3xHZ"
      },
      "execution_count": 45,
      "outputs": []
    },
    {
      "cell_type": "code",
      "source": [
        "train_text_pad"
      ],
      "metadata": {
        "colab": {
          "base_uri": "https://localhost:8080/"
        },
        "id": "7AetzBzG31bq",
        "outputId": "98314b9a-7310-4db8-f682-c5cdf6d1c8d4"
      },
      "execution_count": 46,
      "outputs": [
        {
          "output_type": "execute_result",
          "data": {
            "text/plain": [
              "array([[   0,    0,    0, ...,  176, 3027,    3],\n",
              "       [   0,    0,    0, ...,  163,  508, 1642],\n",
              "       [   0,    0,    0, ...,   77,  240,   96],\n",
              "       ...,\n",
              "       [   0,    0,    0, ...,  328,    2,    4],\n",
              "       [   0,    0,    0, ...,   65,   26,   16],\n",
              "       [   4,   46,   25, ...,    2,    4,   16]], dtype=int32)"
            ]
          },
          "metadata": {},
          "execution_count": 46
        }
      ]
    },
    {
      "cell_type": "code",
      "source": [
        "lbl_target=LabelEncoder()\n",
        "train_output=lbl_target.fit_transform(train_data['class'])\n",
        "test_output=lbl_target.transform(test_data['class'])"
      ],
      "metadata": {
        "id": "Edkw2r2bwrfE"
      },
      "execution_count": 34,
      "outputs": []
    },
    {
      "cell_type": "code",
      "source": [
        "train_output[0:5]"
      ],
      "metadata": {
        "colab": {
          "base_uri": "https://localhost:8080/"
        },
        "id": "73poFQGIw2sI",
        "outputId": "bc1b7f55-759c-4fe6-c0a3-b7c54fb7f5f5"
      },
      "execution_count": 36,
      "outputs": [
        {
          "output_type": "execute_result",
          "data": {
            "text/plain": [
              "array([0, 0, 1, 0, 1])"
            ]
          },
          "metadata": {},
          "execution_count": 36
        }
      ]
    },
    {
      "cell_type": "code",
      "source": [
        "glove_embedding = {}\n",
        "\n",
        "file_path = '/content/glove.6B.300d.txt'\n",
        "\n",
        "with open(file_path, 'r', encoding='utf-8') as f:\n",
        "    for line in f:\n",
        "        values = line.split()\n",
        "        word = values[0]  # The first value is the word\n",
        "        vector = list(map(float, values[1:]))  # The rest are the vector components\n",
        "        glove_embedding[word] = vector\n"
      ],
      "metadata": {
        "id": "KycW2xO6w6lU"
      },
      "execution_count": 37,
      "outputs": []
    },
    {
      "cell_type": "code",
      "source": [
        "glove_embedding['hello']"
      ],
      "metadata": {
        "colab": {
          "base_uri": "https://localhost:8080/"
        },
        "id": "OUacxNL_2qAf",
        "outputId": "6440a50b-8750-41d1-8982-a6fe235e9a18"
      },
      "execution_count": 38,
      "outputs": [
        {
          "output_type": "execute_result",
          "data": {
            "text/plain": [
              "[-0.33712,\n",
              " -0.21691,\n",
              " -0.0066365,\n",
              " -0.41625,\n",
              " -1.2555,\n",
              " -0.028466,\n",
              " -0.72195,\n",
              " -0.52887,\n",
              " 0.0072085,\n",
              " 0.31997,\n",
              " 0.029425,\n",
              " -0.013236,\n",
              " 0.43511,\n",
              " 0.25716,\n",
              " 0.38995,\n",
              " -0.11968,\n",
              " 0.15035,\n",
              " 0.44762,\n",
              " 0.28407,\n",
              " 0.49339,\n",
              " 0.62826,\n",
              " 0.22888,\n",
              " -0.40385,\n",
              " 0.027364,\n",
              " 0.0073679,\n",
              " 0.13995,\n",
              " 0.23346,\n",
              " 0.068122,\n",
              " 0.48422,\n",
              " -0.019578,\n",
              " -0.54751,\n",
              " -0.54983,\n",
              " -0.034091,\n",
              " 0.0080017,\n",
              " -0.43065,\n",
              " -0.018969,\n",
              " -0.08567,\n",
              " -0.81123,\n",
              " -0.2108,\n",
              " 0.37784,\n",
              " -0.35046,\n",
              " 0.13684,\n",
              " -0.55661,\n",
              " 0.16835,\n",
              " -0.22952,\n",
              " -0.16184,\n",
              " 0.67345,\n",
              " -0.46597,\n",
              " -0.031834,\n",
              " -0.26037,\n",
              " -0.17797,\n",
              " 0.019436,\n",
              " 0.10727,\n",
              " 0.66534,\n",
              " -0.34836,\n",
              " 0.047833,\n",
              " 0.1644,\n",
              " 0.14088,\n",
              " 0.19204,\n",
              " -0.35009,\n",
              " 0.26236,\n",
              " 0.17626,\n",
              " -0.31367,\n",
              " 0.11709,\n",
              " 0.20378,\n",
              " 0.61775,\n",
              " 0.49075,\n",
              " -0.07521,\n",
              " -0.11815,\n",
              " 0.18685,\n",
              " 0.40679,\n",
              " 0.28319,\n",
              " -0.1629,\n",
              " 0.038388,\n",
              " 0.43794,\n",
              " 0.088224,\n",
              " 0.59046,\n",
              " -0.053515,\n",
              " 0.038819,\n",
              " 0.18202,\n",
              " -0.27599,\n",
              " 0.39474,\n",
              " -0.20499,\n",
              " 0.17411,\n",
              " 0.10315,\n",
              " 0.25117,\n",
              " -0.36542,\n",
              " 0.36528,\n",
              " 0.22448,\n",
              " -0.97551,\n",
              " 0.094505,\n",
              " -0.17859,\n",
              " -0.30688,\n",
              " -0.58633,\n",
              " -0.18526,\n",
              " 0.039565,\n",
              " -0.42309,\n",
              " -0.15715,\n",
              " 0.20401,\n",
              " 0.16906,\n",
              " 0.34465,\n",
              " -0.42262,\n",
              " 0.19553,\n",
              " 0.59454,\n",
              " -0.30531,\n",
              " -0.10633,\n",
              " -0.19055,\n",
              " -0.58544,\n",
              " 0.21357,\n",
              " 0.38414,\n",
              " 0.091499,\n",
              " 0.38353,\n",
              " 0.29075,\n",
              " 0.024519,\n",
              " 0.2844,\n",
              " 0.063715,\n",
              " -0.15483,\n",
              " 0.40031,\n",
              " 0.31543,\n",
              " -0.037128,\n",
              " 0.063363,\n",
              " -0.2709,\n",
              " 0.2516,\n",
              " 0.47105,\n",
              " 0.49556,\n",
              " -0.36401,\n",
              " 0.1037,\n",
              " 0.046076,\n",
              " 0.16565,\n",
              " -0.29024,\n",
              " -0.066949,\n",
              " -0.30881,\n",
              " 0.48263,\n",
              " 0.30972,\n",
              " -0.11145,\n",
              " -0.10329,\n",
              " 0.028585,\n",
              " -0.13579,\n",
              " 0.52924,\n",
              " -0.14077,\n",
              " 0.091763,\n",
              " 0.13127,\n",
              " -0.20944,\n",
              " 0.022327,\n",
              " -0.077692,\n",
              " 0.077934,\n",
              " -0.033067,\n",
              " 0.1168,\n",
              " 0.32029,\n",
              " 0.37749,\n",
              " -0.75679,\n",
              " -0.15944,\n",
              " 0.14964,\n",
              " 0.42253,\n",
              " 0.0028136,\n",
              " 0.21328,\n",
              " 0.086776,\n",
              " -0.052704,\n",
              " -0.40859,\n",
              " -0.11774,\n",
              " 0.090621,\n",
              " -0.23794,\n",
              " -0.18326,\n",
              " 0.13115,\n",
              " -0.55949,\n",
              " 0.092071,\n",
              " -0.039504,\n",
              " 0.13334,\n",
              " 0.49632,\n",
              " 0.28733,\n",
              " -0.18544,\n",
              " 0.024618,\n",
              " -0.42826,\n",
              " 0.074148,\n",
              " 0.00076584,\n",
              " 0.2395,\n",
              " 0.22615,\n",
              " 0.055166,\n",
              " -0.075096,\n",
              " -0.22308,\n",
              " 0.23775,\n",
              " -0.45455,\n",
              " 0.26564,\n",
              " -0.15137,\n",
              " -0.24146,\n",
              " -0.24736,\n",
              " 0.55214,\n",
              " 0.26819,\n",
              " 0.48831,\n",
              " -0.13423,\n",
              " -0.15918,\n",
              " 0.37606,\n",
              " -0.19834,\n",
              " 0.16699,\n",
              " -0.15368,\n",
              " 0.24561,\n",
              " -0.092506,\n",
              " -0.30257,\n",
              " -0.29493,\n",
              " -0.74917,\n",
              " 1.0567,\n",
              " 0.37971,\n",
              " 0.69314,\n",
              " -0.031672,\n",
              " 0.21588,\n",
              " -0.40739,\n",
              " -0.15264,\n",
              " 0.32296,\n",
              " -0.12999,\n",
              " -0.50129,\n",
              " -0.44231,\n",
              " 0.016904,\n",
              " -0.011459,\n",
              " 0.0072293,\n",
              " 0.11026,\n",
              " 0.21568,\n",
              " -0.32373,\n",
              " -0.37292,\n",
              " -0.0092456,\n",
              " -0.26769,\n",
              " 0.39066,\n",
              " 0.35742,\n",
              " -0.060632,\n",
              " 0.067966,\n",
              " 0.3383,\n",
              " 0.065747,\n",
              " 0.15794,\n",
              " 0.047155,\n",
              " 0.23682,\n",
              " -0.09137,\n",
              " 0.64649,\n",
              " -0.25491,\n",
              " -0.6794,\n",
              " -0.69752,\n",
              " -0.10145,\n",
              " -0.36255,\n",
              " 0.36967,\n",
              " -0.41295,\n",
              " 0.082724,\n",
              " -0.35053,\n",
              " -0.17564,\n",
              " 0.085095,\n",
              " -0.57724,\n",
              " 0.50252,\n",
              " 0.5218,\n",
              " 0.057327,\n",
              " -0.79754,\n",
              " -0.3777,\n",
              " 0.78149,\n",
              " 0.24597,\n",
              " 0.60672,\n",
              " -0.20082,\n",
              " -0.38792,\n",
              " 0.41295,\n",
              " -0.16143,\n",
              " 0.010427,\n",
              " 0.43197,\n",
              " 0.0046297,\n",
              " 0.21185,\n",
              " -0.26606,\n",
              " -0.05874,\n",
              " -0.51003,\n",
              " 0.28524,\n",
              " 0.013627,\n",
              " -0.27346,\n",
              " 0.061848,\n",
              " -0.57901,\n",
              " -0.51136,\n",
              " 0.36382,\n",
              " 0.35144,\n",
              " -0.16501,\n",
              " -0.46041,\n",
              " -0.064742,\n",
              " -0.6831,\n",
              " -0.047427,\n",
              " 0.15861,\n",
              " -0.47288,\n",
              " 0.33968,\n",
              " 0.0012092,\n",
              " 0.16018,\n",
              " -0.58024,\n",
              " 0.14556,\n",
              " -0.91317,\n",
              " -0.37592,\n",
              " -0.3295,\n",
              " 0.53465,\n",
              " 0.18224,\n",
              " -0.52265,\n",
              " -0.26209,\n",
              " -0.42458,\n",
              " -0.18034,\n",
              " 0.099502,\n",
              " -0.15114,\n",
              " -0.66731,\n",
              " 0.24483,\n",
              " -0.5663,\n",
              " 0.33843,\n",
              " 0.40558,\n",
              " 0.18073,\n",
              " 0.6425]"
            ]
          },
          "metadata": {},
          "execution_count": 38
        }
      ]
    },
    {
      "cell_type": "code",
      "source": [
        "v=len(tokenizer.word_index)\n",
        "\n",
        "embedding_matrix=np.zeros((v+1,300), dtype=float)\n",
        "for word,idx in tokenizer.word_index.items():\n",
        "    embedding_vector=glove_embedding.get(word)\n",
        "    if embedding_vector is not None:\n",
        "        embedding_matrix[idx]=embedding_vector"
      ],
      "metadata": {
        "id": "Ndzx4dXC3J-T"
      },
      "execution_count": 39,
      "outputs": []
    },
    {
      "cell_type": "code",
      "source": [
        "embedding_matrix"
      ],
      "metadata": {
        "colab": {
          "base_uri": "https://localhost:8080/"
        },
        "id": "oP3fMzb93V_S",
        "outputId": "63fdbb60-59e1-40f2-a793-f18b51db1ef2"
      },
      "execution_count": 40,
      "outputs": [
        {
          "output_type": "execute_result",
          "data": {
            "text/plain": [
              "array([[ 0.      ,  0.      ,  0.      , ...,  0.      ,  0.      ,\n",
              "         0.      ],\n",
              "       [ 0.17876 , -0.56186 ,  0.048086, ...,  0.81069 , -0.20186 ,\n",
              "         0.29167 ],\n",
              "       [-0.32707 , -0.33259 , -0.042184, ...,  0.22715 ,  0.76067 ,\n",
              "         0.20132 ],\n",
              "       ...,\n",
              "       [ 0.      ,  0.      ,  0.      , ...,  0.      ,  0.      ,\n",
              "         0.      ],\n",
              "       [-0.11899 , -0.13953 ,  0.51813 , ..., -0.08798 ,  0.22247 ,\n",
              "         0.20452 ],\n",
              "       [ 0.      ,  0.      ,  0.      , ...,  0.      ,  0.      ,\n",
              "         0.      ]])"
            ]
          },
          "metadata": {},
          "execution_count": 40
        }
      ]
    },
    {
      "cell_type": "code",
      "source": [
        "early_stop=EarlyStopping(patience=5)\n",
        "reducelr=ReduceLROnPlateau(patience=3)"
      ],
      "metadata": {
        "id": "BEeHI_xJ3ZKr"
      },
      "execution_count": 41,
      "outputs": []
    },
    {
      "cell_type": "code",
      "source": [
        "model=Sequential()\n",
        "model.add(Input(shape=(40,)))\n",
        "model.add(Embedding(v+1,300,weights=[embedding_matrix],trainable=False))\n",
        "model.add(LSTM(20,return_sequences=True))\n",
        "model.add(GlobalMaxPooling1D())\n",
        "model.add(Dense(256,activation='relu'))\n",
        "model.add(Dense(1,activation='sigmoid'))\n",
        "model.compile(optimizer=keras.optimizers.SGD(0.1,momentum=0.09),loss='binary_crossentropy',metrics=['accuracy'])"
      ],
      "metadata": {
        "id": "gmhaqJ3_3ct8"
      },
      "execution_count": 42,
      "outputs": []
    },
    {
      "cell_type": "code",
      "source": [
        "model.summary()"
      ],
      "metadata": {
        "colab": {
          "base_uri": "https://localhost:8080/",
          "height": 305
        },
        "id": "LQP9YwxO3fNz",
        "outputId": "e6fb086a-b8b4-4163-dce5-0609ab37fafc"
      },
      "execution_count": 43,
      "outputs": [
        {
          "output_type": "display_data",
          "data": {
            "text/plain": [
              "\u001b[1mModel: \"sequential\"\u001b[0m\n"
            ],
            "text/html": [
              "<pre style=\"white-space:pre;overflow-x:auto;line-height:normal;font-family:Menlo,'DejaVu Sans Mono',consolas,'Courier New',monospace\"><span style=\"font-weight: bold\">Model: \"sequential\"</span>\n",
              "</pre>\n"
            ]
          },
          "metadata": {}
        },
        {
          "output_type": "display_data",
          "data": {
            "text/plain": [
              "┏━━━━━━━━━━━━━━━━━━━━━━━━━━━━━━━━━━━━━━┳━━━━━━━━━━━━━━━━━━━━━━━━━━━━━┳━━━━━━━━━━━━━━━━━┓\n",
              "┃\u001b[1m \u001b[0m\u001b[1mLayer (type)                        \u001b[0m\u001b[1m \u001b[0m┃\u001b[1m \u001b[0m\u001b[1mOutput Shape               \u001b[0m\u001b[1m \u001b[0m┃\u001b[1m \u001b[0m\u001b[1m        Param #\u001b[0m\u001b[1m \u001b[0m┃\n",
              "┡━━━━━━━━━━━━━━━━━━━━━━━━━━━━━━━━━━━━━━╇━━━━━━━━━━━━━━━━━━━━━━━━━━━━━╇━━━━━━━━━━━━━━━━━┩\n",
              "│ embedding (\u001b[38;5;33mEmbedding\u001b[0m)                │ (\u001b[38;5;45mNone\u001b[0m, \u001b[38;5;34m40\u001b[0m, \u001b[38;5;34m300\u001b[0m)             │      \u001b[38;5;34m81,560,700\u001b[0m │\n",
              "├──────────────────────────────────────┼─────────────────────────────┼─────────────────┤\n",
              "│ lstm (\u001b[38;5;33mLSTM\u001b[0m)                          │ (\u001b[38;5;45mNone\u001b[0m, \u001b[38;5;34m40\u001b[0m, \u001b[38;5;34m20\u001b[0m)              │          \u001b[38;5;34m25,680\u001b[0m │\n",
              "├──────────────────────────────────────┼─────────────────────────────┼─────────────────┤\n",
              "│ global_max_pooling1d                 │ (\u001b[38;5;45mNone\u001b[0m, \u001b[38;5;34m20\u001b[0m)                  │               \u001b[38;5;34m0\u001b[0m │\n",
              "│ (\u001b[38;5;33mGlobalMaxPooling1D\u001b[0m)                 │                             │                 │\n",
              "├──────────────────────────────────────┼─────────────────────────────┼─────────────────┤\n",
              "│ dense (\u001b[38;5;33mDense\u001b[0m)                        │ (\u001b[38;5;45mNone\u001b[0m, \u001b[38;5;34m256\u001b[0m)                 │           \u001b[38;5;34m5,376\u001b[0m │\n",
              "├──────────────────────────────────────┼─────────────────────────────┼─────────────────┤\n",
              "│ dense_1 (\u001b[38;5;33mDense\u001b[0m)                      │ (\u001b[38;5;45mNone\u001b[0m, \u001b[38;5;34m1\u001b[0m)                   │             \u001b[38;5;34m257\u001b[0m │\n",
              "└──────────────────────────────────────┴─────────────────────────────┴─────────────────┘\n"
            ],
            "text/html": [
              "<pre style=\"white-space:pre;overflow-x:auto;line-height:normal;font-family:Menlo,'DejaVu Sans Mono',consolas,'Courier New',monospace\">┏━━━━━━━━━━━━━━━━━━━━━━━━━━━━━━━━━━━━━━┳━━━━━━━━━━━━━━━━━━━━━━━━━━━━━┳━━━━━━━━━━━━━━━━━┓\n",
              "┃<span style=\"font-weight: bold\"> Layer (type)                         </span>┃<span style=\"font-weight: bold\"> Output Shape                </span>┃<span style=\"font-weight: bold\">         Param # </span>┃\n",
              "┡━━━━━━━━━━━━━━━━━━━━━━━━━━━━━━━━━━━━━━╇━━━━━━━━━━━━━━━━━━━━━━━━━━━━━╇━━━━━━━━━━━━━━━━━┩\n",
              "│ embedding (<span style=\"color: #0087ff; text-decoration-color: #0087ff\">Embedding</span>)                │ (<span style=\"color: #00d7ff; text-decoration-color: #00d7ff\">None</span>, <span style=\"color: #00af00; text-decoration-color: #00af00\">40</span>, <span style=\"color: #00af00; text-decoration-color: #00af00\">300</span>)             │      <span style=\"color: #00af00; text-decoration-color: #00af00\">81,560,700</span> │\n",
              "├──────────────────────────────────────┼─────────────────────────────┼─────────────────┤\n",
              "│ lstm (<span style=\"color: #0087ff; text-decoration-color: #0087ff\">LSTM</span>)                          │ (<span style=\"color: #00d7ff; text-decoration-color: #00d7ff\">None</span>, <span style=\"color: #00af00; text-decoration-color: #00af00\">40</span>, <span style=\"color: #00af00; text-decoration-color: #00af00\">20</span>)              │          <span style=\"color: #00af00; text-decoration-color: #00af00\">25,680</span> │\n",
              "├──────────────────────────────────────┼─────────────────────────────┼─────────────────┤\n",
              "│ global_max_pooling1d                 │ (<span style=\"color: #00d7ff; text-decoration-color: #00d7ff\">None</span>, <span style=\"color: #00af00; text-decoration-color: #00af00\">20</span>)                  │               <span style=\"color: #00af00; text-decoration-color: #00af00\">0</span> │\n",
              "│ (<span style=\"color: #0087ff; text-decoration-color: #0087ff\">GlobalMaxPooling1D</span>)                 │                             │                 │\n",
              "├──────────────────────────────────────┼─────────────────────────────┼─────────────────┤\n",
              "│ dense (<span style=\"color: #0087ff; text-decoration-color: #0087ff\">Dense</span>)                        │ (<span style=\"color: #00d7ff; text-decoration-color: #00d7ff\">None</span>, <span style=\"color: #00af00; text-decoration-color: #00af00\">256</span>)                 │           <span style=\"color: #00af00; text-decoration-color: #00af00\">5,376</span> │\n",
              "├──────────────────────────────────────┼─────────────────────────────┼─────────────────┤\n",
              "│ dense_1 (<span style=\"color: #0087ff; text-decoration-color: #0087ff\">Dense</span>)                      │ (<span style=\"color: #00d7ff; text-decoration-color: #00d7ff\">None</span>, <span style=\"color: #00af00; text-decoration-color: #00af00\">1</span>)                   │             <span style=\"color: #00af00; text-decoration-color: #00af00\">257</span> │\n",
              "└──────────────────────────────────────┴─────────────────────────────┴─────────────────┘\n",
              "</pre>\n"
            ]
          },
          "metadata": {}
        },
        {
          "output_type": "display_data",
          "data": {
            "text/plain": [
              "\u001b[1m Total params: \u001b[0m\u001b[38;5;34m81,592,013\u001b[0m (311.25 MB)\n"
            ],
            "text/html": [
              "<pre style=\"white-space:pre;overflow-x:auto;line-height:normal;font-family:Menlo,'DejaVu Sans Mono',consolas,'Courier New',monospace\"><span style=\"font-weight: bold\"> Total params: </span><span style=\"color: #00af00; text-decoration-color: #00af00\">81,592,013</span> (311.25 MB)\n",
              "</pre>\n"
            ]
          },
          "metadata": {}
        },
        {
          "output_type": "display_data",
          "data": {
            "text/plain": [
              "\u001b[1m Trainable params: \u001b[0m\u001b[38;5;34m31,313\u001b[0m (122.32 KB)\n"
            ],
            "text/html": [
              "<pre style=\"white-space:pre;overflow-x:auto;line-height:normal;font-family:Menlo,'DejaVu Sans Mono',consolas,'Courier New',monospace\"><span style=\"font-weight: bold\"> Trainable params: </span><span style=\"color: #00af00; text-decoration-color: #00af00\">31,313</span> (122.32 KB)\n",
              "</pre>\n"
            ]
          },
          "metadata": {}
        },
        {
          "output_type": "display_data",
          "data": {
            "text/plain": [
              "\u001b[1m Non-trainable params: \u001b[0m\u001b[38;5;34m81,560,700\u001b[0m (311.13 MB)\n"
            ],
            "text/html": [
              "<pre style=\"white-space:pre;overflow-x:auto;line-height:normal;font-family:Menlo,'DejaVu Sans Mono',consolas,'Courier New',monospace\"><span style=\"font-weight: bold\"> Non-trainable params: </span><span style=\"color: #00af00; text-decoration-color: #00af00\">81,560,700</span> (311.13 MB)\n",
              "</pre>\n"
            ]
          },
          "metadata": {}
        }
      ]
    },
    {
      "cell_type": "code",
      "source": [
        "r=model.fit(train_text_pad,train_output,validation_data=(test_text_pad,test_output),\n",
        "            epochs=20,batch_size=256,callbacks=[early_stop,reducelr])"
      ],
      "metadata": {
        "colab": {
          "base_uri": "https://localhost:8080/"
        },
        "id": "XjSDshmP3gdD",
        "outputId": "0f349f2c-c60b-4ac6-bdaf-3fe58a35d47e"
      },
      "execution_count": 47,
      "outputs": [
        {
          "output_type": "stream",
          "name": "stdout",
          "text": [
            "Epoch 1/20\n",
            "\u001b[1m726/726\u001b[0m \u001b[32m━━━━━━━━━━━━━━━━━━━━\u001b[0m\u001b[37m\u001b[0m \u001b[1m10s\u001b[0m 7ms/step - accuracy: 0.7807 - loss: 0.4614 - val_accuracy: 0.8775 - val_loss: 0.2957 - learning_rate: 0.1000\n",
            "Epoch 2/20\n",
            "\u001b[1m726/726\u001b[0m \u001b[32m━━━━━━━━━━━━━━━━━━━━\u001b[0m\u001b[37m\u001b[0m \u001b[1m10s\u001b[0m 9ms/step - accuracy: 0.8947 - loss: 0.2652 - val_accuracy: 0.9014 - val_loss: 0.2461 - learning_rate: 0.1000\n",
            "Epoch 3/20\n",
            "\u001b[1m726/726\u001b[0m \u001b[32m━━━━━━━━━━━━━━━━━━━━\u001b[0m\u001b[37m\u001b[0m \u001b[1m8s\u001b[0m 6ms/step - accuracy: 0.9027 - loss: 0.2435 - val_accuracy: 0.9049 - val_loss: 0.2382 - learning_rate: 0.1000\n",
            "Epoch 4/20\n",
            "\u001b[1m726/726\u001b[0m \u001b[32m━━━━━━━━━━━━━━━━━━━━\u001b[0m\u001b[37m\u001b[0m \u001b[1m7s\u001b[0m 10ms/step - accuracy: 0.9085 - loss: 0.2321 - val_accuracy: 0.9083 - val_loss: 0.2291 - learning_rate: 0.1000\n",
            "Epoch 5/20\n",
            "\u001b[1m726/726\u001b[0m \u001b[32m━━━━━━━━━━━━━━━━━━━━\u001b[0m\u001b[37m\u001b[0m \u001b[1m7s\u001b[0m 6ms/step - accuracy: 0.9124 - loss: 0.2236 - val_accuracy: 0.8981 - val_loss: 0.2532 - learning_rate: 0.1000\n",
            "Epoch 6/20\n",
            "\u001b[1m726/726\u001b[0m \u001b[32m━━━━━━━━━━━━━━━━━━━━\u001b[0m\u001b[37m\u001b[0m \u001b[1m5s\u001b[0m 7ms/step - accuracy: 0.9167 - loss: 0.2137 - val_accuracy: 0.9173 - val_loss: 0.2141 - learning_rate: 0.1000\n",
            "Epoch 7/20\n",
            "\u001b[1m726/726\u001b[0m \u001b[32m━━━━━━━━━━━━━━━━━━━━\u001b[0m\u001b[37m\u001b[0m \u001b[1m10s\u001b[0m 6ms/step - accuracy: 0.9192 - loss: 0.2083 - val_accuracy: 0.9186 - val_loss: 0.2110 - learning_rate: 0.1000\n",
            "Epoch 8/20\n",
            "\u001b[1m726/726\u001b[0m \u001b[32m━━━━━━━━━━━━━━━━━━━━\u001b[0m\u001b[37m\u001b[0m \u001b[1m5s\u001b[0m 7ms/step - accuracy: 0.9215 - loss: 0.2017 - val_accuracy: 0.9194 - val_loss: 0.2086 - learning_rate: 0.1000\n",
            "Epoch 9/20\n",
            "\u001b[1m726/726\u001b[0m \u001b[32m━━━━━━━━━━━━━━━━━━━━\u001b[0m\u001b[37m\u001b[0m \u001b[1m7s\u001b[0m 10ms/step - accuracy: 0.9233 - loss: 0.1972 - val_accuracy: 0.9140 - val_loss: 0.2190 - learning_rate: 0.1000\n",
            "Epoch 10/20\n",
            "\u001b[1m726/726\u001b[0m \u001b[32m━━━━━━━━━━━━━━━━━━━━\u001b[0m\u001b[37m\u001b[0m \u001b[1m8s\u001b[0m 6ms/step - accuracy: 0.9261 - loss: 0.1920 - val_accuracy: 0.9086 - val_loss: 0.2305 - learning_rate: 0.1000\n",
            "Epoch 11/20\n",
            "\u001b[1m726/726\u001b[0m \u001b[32m━━━━━━━━━━━━━━━━━━━━\u001b[0m\u001b[37m\u001b[0m \u001b[1m6s\u001b[0m 9ms/step - accuracy: 0.9277 - loss: 0.1880 - val_accuracy: 0.9218 - val_loss: 0.2032 - learning_rate: 0.1000\n",
            "Epoch 12/20\n",
            "\u001b[1m726/726\u001b[0m \u001b[32m━━━━━━━━━━━━━━━━━━━━\u001b[0m\u001b[37m\u001b[0m \u001b[1m9s\u001b[0m 6ms/step - accuracy: 0.9286 - loss: 0.1844 - val_accuracy: 0.9231 - val_loss: 0.1991 - learning_rate: 0.1000\n",
            "Epoch 13/20\n",
            "\u001b[1m726/726\u001b[0m \u001b[32m━━━━━━━━━━━━━━━━━━━━\u001b[0m\u001b[37m\u001b[0m \u001b[1m5s\u001b[0m 7ms/step - accuracy: 0.9307 - loss: 0.1798 - val_accuracy: 0.9233 - val_loss: 0.2007 - learning_rate: 0.1000\n",
            "Epoch 14/20\n",
            "\u001b[1m726/726\u001b[0m \u001b[32m━━━━━━━━━━━━━━━━━━━━\u001b[0m\u001b[37m\u001b[0m \u001b[1m7s\u001b[0m 10ms/step - accuracy: 0.9333 - loss: 0.1734 - val_accuracy: 0.9190 - val_loss: 0.2102 - learning_rate: 0.1000\n",
            "Epoch 15/20\n",
            "\u001b[1m726/726\u001b[0m \u001b[32m━━━━━━━━━━━━━━━━━━━━\u001b[0m\u001b[37m\u001b[0m \u001b[1m5s\u001b[0m 6ms/step - accuracy: 0.9340 - loss: 0.1701 - val_accuracy: 0.9254 - val_loss: 0.1954 - learning_rate: 0.1000\n",
            "Epoch 16/20\n",
            "\u001b[1m726/726\u001b[0m \u001b[32m━━━━━━━━━━━━━━━━━━━━\u001b[0m\u001b[37m\u001b[0m \u001b[1m5s\u001b[0m 6ms/step - accuracy: 0.9354 - loss: 0.1679 - val_accuracy: 0.9232 - val_loss: 0.2010 - learning_rate: 0.1000\n",
            "Epoch 17/20\n",
            "\u001b[1m726/726\u001b[0m \u001b[32m━━━━━━━━━━━━━━━━━━━━\u001b[0m\u001b[37m\u001b[0m \u001b[1m7s\u001b[0m 9ms/step - accuracy: 0.9361 - loss: 0.1652 - val_accuracy: 0.8863 - val_loss: 0.2956 - learning_rate: 0.1000\n",
            "Epoch 18/20\n",
            "\u001b[1m726/726\u001b[0m \u001b[32m━━━━━━━━━━━━━━━━━━━━\u001b[0m\u001b[37m\u001b[0m \u001b[1m8s\u001b[0m 7ms/step - accuracy: 0.9375 - loss: 0.1622 - val_accuracy: 0.9122 - val_loss: 0.2318 - learning_rate: 0.1000\n",
            "Epoch 19/20\n",
            "\u001b[1m726/726\u001b[0m \u001b[32m━━━━━━━━━━━━━━━━━━━━\u001b[0m\u001b[37m\u001b[0m \u001b[1m5s\u001b[0m 7ms/step - accuracy: 0.9412 - loss: 0.1543 - val_accuracy: 0.9249 - val_loss: 0.1945 - learning_rate: 0.0100\n",
            "Epoch 20/20\n",
            "\u001b[1m726/726\u001b[0m \u001b[32m━━━━━━━━━━━━━━━━━━━━\u001b[0m\u001b[37m\u001b[0m \u001b[1m7s\u001b[0m 9ms/step - accuracy: 0.9417 - loss: 0.1526 - val_accuracy: 0.9258 - val_loss: 0.1955 - learning_rate: 0.0100\n"
          ]
        }
      ]
    },
    {
      "cell_type": "code",
      "source": [
        "\n",
        "plt.plot(r.history['loss'], label='Training Loss')\n",
        "plt.plot(r.history['val_loss'], label='Validation Loss')\n",
        "plt.xlabel('Epochs')\n",
        "plt.ylabel('Loss')\n",
        "plt.legend()\n",
        "plt.show()\n",
        "\n",
        "plt.plot(r.history['accuracy'], label='Training Accuracy')\n",
        "plt.plot(r.history['val_accuracy'], label='Validation Accuracy')\n",
        "plt.xlabel('Epochs')\n",
        "plt.ylabel('Accuracy')\n",
        "plt.legend()\n",
        "plt.show()"
      ],
      "metadata": {
        "colab": {
          "base_uri": "https://localhost:8080/",
          "height": 881
        },
        "id": "Inrc5mLp3l-o",
        "outputId": "4170b99e-0747-4bc3-e141-a747d777e3a5"
      },
      "execution_count": 50,
      "outputs": [
        {
          "output_type": "display_data",
          "data": {
            "text/plain": [
              "<Figure size 640x480 with 1 Axes>"
            ],
            "image/png": "[encoded data removed]"
          },
          "metadata": {}
        },
        {
          "output_type": "display_data",
          "data": {
            "text/plain": [
              "<Figure size 640x480 with 1 Axes>"
            ],
            "image/png": "[encoded data removed]"
          },
          "metadata": {}
        }
      ]
    },
    {
      "cell_type": "code",
      "source": [
        "from sklearn.metrics import f1_score\n",
        "\n",
        "y_pred_probs = model.predict(test_text_pad)  # Probabilities\n",
        "y_pred = (y_pred_probs > 0.5).astype(int)\n",
        "\n",
        "# Calculate F1 Score\n",
        "f1_score(test_output, y_pred)"
      ],
      "metadata": {
        "colab": {
          "base_uri": "https://localhost:8080/"
        },
        "id": "XiHCFcZU4iSy",
        "outputId": "9d6ff0d6-4954-4fa6-83c3-20c6fc874d9f"
      },
      "execution_count": 51,
      "outputs": [
        {
          "output_type": "stream",
          "name": "stdout",
          "text": [
            "\u001b[1m1451/1451\u001b[0m \u001b[32m━━━━━━━━━━━━━━━━━━━━\u001b[0m\u001b[37m\u001b[0m \u001b[1m6s\u001b[0m 4ms/step\n"
          ]
        },
        {
          "output_type": "execute_result",
          "data": {
            "text/plain": [
              "0.9249378841375703"
            ]
          },
          "metadata": {},
          "execution_count": 51
        }
      ]
    },
    {
      "cell_type": "code",
      "source": [
        "twt = ['i am happy']\n",
        "twt = tokenizer.texts_to_sequences(twt)\n",
        "twt = pad_sequences(twt, maxlen=50)\n",
        "\n",
        "prediction = model.predict(twt)[0][0]\n",
        "print(prediction)\n",
        "\n",
        "if(prediction > 0.5):\n",
        "    print(\"Potential Suicide Post\")\n",
        "else:\n",
        "    print(\"Non Suicide Post\")"
      ],
      "metadata": {
        "colab": {
          "base_uri": "https://localhost:8080/"
        },
        "id": "mfo4AGBt5q0K",
        "outputId": "1d88caea-7ab5-4ad2-c461-5817d858c262"
      },
      "execution_count": 52,
      "outputs": [
        {
          "output_type": "stream",
          "name": "stdout",
          "text": [
            "\u001b[1m1/1\u001b[0m \u001b[32m━━━━━━━━━━━━━━━━━━━━\u001b[0m\u001b[37m\u001b[0m \u001b[1m0s\u001b[0m 39ms/step\n",
            "0.41793728\n",
            "Non Suicide Post\n"
          ]
        }
      ]
    },
    {
      "cell_type": "code",
      "source": [
        "import pickle\n",
        "pickle.dump(tokenizer, open('tokenizer.pkl', 'wb'))"
      ],
      "metadata": {
        "id": "X6fKPyjb5ymL"
      },
      "execution_count": 54,
      "outputs": []
    },
    {
      "cell_type": "code",
      "source": [
        "model.save(\"model.h5\")"
      ],
      "metadata": {
        "colab": {
          "base_uri": "https://localhost:8080/"
        },
        "id": "A_eXHBZZ54Z1",
        "outputId": "5e05b1fc-5385-46dc-eb71-703b92d9b9ca"
      },
      "execution_count": 55,
      "outputs": [
        {
          "output_type": "stream",
          "name": "stderr",
          "text": [
            "WARNING:absl:You are saving your model as an HDF5 file via `model.save()` or `keras.saving.save_model(model)`. This file format is considered legacy. We recommend using instead the native Keras format, e.g. `model.save('my_model.keras')` or `keras.saving.save_model(model, 'my_model.keras')`. \n"
          ]
        }
      ]
    },
    {
      "cell_type": "code",
      "source": [
        "token_form = pickle.load(open('tokenizer.pkl', 'rb'))"
      ],
      "metadata": {
        "id": "s1N5puGn6DY-"
      },
      "execution_count": 57,
      "outputs": []
    },
    {
      "cell_type": "code",
      "source": [
        "from keras.models import load_model\n",
        "model_form = load_model(\"model.h5\")\n"
      ],
      "metadata": {
        "colab": {
          "base_uri": "https://localhost:8080/"
        },
        "id": "pHdx7d1b6JXU",
        "outputId": "95954057-d96a-4f79-f355-753d8046628c"
      },
      "execution_count": 58,
      "outputs": [
        {
          "output_type": "stream",
          "name": "stderr",
          "text": [
            "WARNING:absl:Compiled the loaded model, but the compiled metrics have yet to be built. `model.compile_metrics` will be empty until you train or evaluate the model.\n"
          ]
        }
      ]
    },
    {
      "cell_type": "code",
      "source": [
        "twt = ['Through these past years thoughts of suicide, fear, anxiety I’m so close to my limit']\n",
        "twt = token_form.texts_to_sequences(twt)\n",
        "twt = pad_sequences(twt, maxlen=50)\n",
        "\n",
        "\n",
        "prediction = model_form.predict(twt)[0][0]\n",
        "print(prediction)\n",
        "\n",
        "if(prediction > 0.5):\n",
        "    print(\"Potential Suicide Post\")\n",
        "elif (prediction == 1):\n",
        "    print(\"Non Suicide Post\")"
      ],
      "metadata": {
        "colab": {
          "base_uri": "https://localhost:8080/"
        },
        "id": "ZvD152el6QHT",
        "outputId": "552bf5cf-a696-4baf-ac00-ab8c760f8fe9"
      },
      "execution_count": 59,
      "outputs": [
        {
          "output_type": "stream",
          "name": "stdout",
          "text": [
            "\u001b[1m1/1\u001b[0m \u001b[32m━━━━━━━━━━━━━━━━━━━━\u001b[0m\u001b[37m\u001b[0m \u001b[1m0s\u001b[0m 187ms/step\n",
            "0.9747473\n",
            "Potential Suicide Post\n"
          ]
        }
      ]
    },
    {
      "cell_type": "code",
      "source": [],
      "metadata": {
        "id": "t2TmYWur6Tvt"
      },
      "execution_count": null,
      "outputs": []
    }
  ]
}